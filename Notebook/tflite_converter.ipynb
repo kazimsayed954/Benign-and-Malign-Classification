{
  "nbformat": 4,
  "nbformat_minor": 0,
  "metadata": {
    "colab": {
      "name": "tflite_converter.ipynb",
      "provenance": [],
      "collapsed_sections": []
    },
    "kernelspec": {
      "name": "python3",
      "display_name": "Python 3"
    }
  },
  "cells": [
    {
      "cell_type": "code",
      "metadata": {
        "id": "T2Q2Eu6eNdjQ"
      },
      "source": [
        "import tensorflow as tf\n",
        "from tensorflow import keras\n",
        "import tensorflow_hub as hub\n"
      ],
      "execution_count": 1,
      "outputs": []
    },
    {
      "cell_type": "code",
      "metadata": {
        "id": "oKKT4rFkOyjF"
      },
      "source": [
        "model_path='/content/drive/MyDrive/projects/Malign_vs_Benign/inceptionv3_Benign_Malign.h5'\n",
        "model=keras.models.load_model(model_path)"
      ],
      "execution_count": 6,
      "outputs": []
    },
    {
      "cell_type": "code",
      "metadata": {
        "id": "7QbzDJ0gRoip"
      },
      "source": [
        "reloaded = keras.models.load_model(model_path, custom_objects={'KerasLayer':hub.KerasLayer})\n"
      ],
      "execution_count": 7,
      "outputs": []
    },
    {
      "cell_type": "code",
      "metadata": {
        "colab": {
          "base_uri": "https://localhost:8080/"
        },
        "id": "cCIlQruqOq8E",
        "outputId": "63185e6b-15bb-4bee-d662-bb1fc062f6c5"
      },
      "source": [
        "TFLITE_MODEL = f\"/content/drive/MyDrive/projects/Malign_vs_Benign/inceptionv3_Benign_Malign.tflite\"\n",
        "\n",
        "\n",
        "# Get the concrete function from the Keras model.\n",
        "run_model = tf.function(lambda x : reloaded(x))\n",
        "\n",
        "# Save the concrete function.\n",
        "concrete_func = run_model.get_concrete_function(\n",
        "    tf.TensorSpec(model.inputs[0].shape, model.inputs[0].dtype)\n",
        ")\n",
        "\n",
        "# Convert the model to standard TensorFlow Lite model\n",
        "converter = tf.lite.TFLiteConverter.from_concrete_functions([concrete_func])\n",
        "converted_tflite_model = converter.convert()\n",
        "open(TFLITE_MODEL, \"wb\").write(converted_tflite_model)"
      ],
      "execution_count": 8,
      "outputs": [
        {
          "output_type": "execute_result",
          "data": {
            "text/plain": [
              "91864008"
            ]
          },
          "metadata": {
            "tags": []
          },
          "execution_count": 8
        }
      ]
    },
    {
      "cell_type": "code",
      "metadata": {
        "id": "8gxFjFTtIs24"
      },
      "source": [
        "labels = ['Benign','Malignant']\n",
        "with open('/content/drive/MyDrive/projects/Malign_vs_Benign/labels.txt', 'w') as f:\n",
        "  f.write('\\n'.join(labels))"
      ],
      "execution_count": 12,
      "outputs": []
    }
  ]
}